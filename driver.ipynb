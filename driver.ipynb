{
 "cells": [
  {
   "cell_type": "code",
   "execution_count": 1,
   "metadata": {},
   "outputs": [],
   "source": [
    "# -*- coding: utf-8 -*-\n",
    "\"\"\"\n",
    "Created on Fri Jan 31 23:54:43 2020\n",
    "\n",
    "@author: mor\n",
    "\"\"\"\n",
    "from tagger  import *\n",
    "\n",
    "path_train='en-ud-train.upos.tsv' \n",
    "   \n",
    "sentences = read_tagged_corpus(path_train)\n",
    "[allTagCounts,perWordTagCounts,transitionCounts,emissionCounts,A,B] = learn(sentences)\n",
    "\n"
   ]
  },
  {
   "cell_type": "code",
   "execution_count": 2,
   "metadata": {},
   "outputs": [
    {
     "data": {
      "text/plain": [
       "['PROPN',\n",
       " 'PUNCT',\n",
       " 'PROPN',\n",
       " 'PUNCT',\n",
       " 'ADJ',\n",
       " 'NOUN',\n",
       " 'VERB',\n",
       " 'PROPN',\n",
       " 'PROPN',\n",
       " 'PROPN',\n",
       " 'PUNCT',\n",
       " 'PROPN',\n",
       " 'PUNCT',\n",
       " 'DET',\n",
       " 'NOUN',\n",
       " 'ADP',\n",
       " 'DET',\n",
       " 'NOUN',\n",
       " 'ADP',\n",
       " 'DET',\n",
       " 'NOUN',\n",
       " 'ADP',\n",
       " 'PROPN',\n",
       " 'PUNCT',\n",
       " 'ADP',\n",
       " 'DET',\n",
       " 'ADJ',\n",
       " 'NOUN',\n",
       " 'PUNCT']"
      ]
     },
     "execution_count": 2,
     "metadata": {},
     "output_type": "execute_result"
    }
   ],
   "source": [
    "\n",
    "words,tags = split_tuple_list(sentences[0])\n",
    "vet_matrix = viterbi(words,A,B)\n",
    "retrace(vet_matrix[-1][0])\n"
   ]
  },
  {
   "cell_type": "code",
   "execution_count": 3,
   "metadata": {},
   "outputs": [
    {
     "data": {
      "text/plain": [
       "[('Al', 'PROPN'),\n",
       " ('-', 'PUNCT'),\n",
       " ('Zaman', 'PROPN'),\n",
       " (':', 'PUNCT'),\n",
       " ('American', 'ADJ'),\n",
       " ('forces', 'NOUN'),\n",
       " ('killed', 'VERB'),\n",
       " ('Shaikh', 'PROPN'),\n",
       " ('Abdullah', 'PROPN'),\n",
       " ('al', 'PROPN'),\n",
       " ('-', 'PUNCT'),\n",
       " ('Ani', 'PROPN'),\n",
       " (',', 'PUNCT'),\n",
       " ('the', 'DET'),\n",
       " ('preacher', 'NOUN'),\n",
       " ('at', 'ADP'),\n",
       " ('the', 'DET'),\n",
       " ('mosque', 'NOUN'),\n",
       " ('in', 'ADP'),\n",
       " ('the', 'DET'),\n",
       " ('town', 'NOUN'),\n",
       " ('of', 'ADP'),\n",
       " ('Qaim', 'PROPN'),\n",
       " (',', 'PUNCT'),\n",
       " ('near', 'ADP'),\n",
       " ('the', 'DET'),\n",
       " ('Syrian', 'ADJ'),\n",
       " ('border', 'NOUN'),\n",
       " ('.', 'PUNCT')]"
      ]
     },
     "execution_count": 3,
     "metadata": {},
     "output_type": "execute_result"
    }
   ],
   "source": [
    "\n",
    "hmm_tag_sentence(words, A, B)\n"
   ]
  },
  {
   "cell_type": "code",
   "execution_count": 4,
   "metadata": {},
   "outputs": [
    {
     "name": "stdout",
     "output_type": "stream",
     "text": [
      "corr_oov: 598\n",
      "oov_count: 2090\n",
      "corr/size: 0.8742\n"
     ]
    }
   ],
   "source": [
    "\n",
    "\n",
    "path_test='en-ud-dev.upos.tsv' \n",
    "sentences_test = read_tagged_corpus(path_test)\n",
    "\n",
    "size=0\n",
    "corr=0\n",
    "corr_oov=0\n",
    "oov_count=0\n",
    "for sent in sentences_test:\n",
    "    words,tags = split_tuple_list(sent)\n",
    "\n",
    "    pred_sentence = hmm_tag_sentence(words,A, B)\n",
    "#    pred_sentence = baseline_tag_sentence(words,perWordTagCounts, allTagCounts)\n",
    "    correct , correctOOV, OOV = count_correct(sent , pred_sentence)\n",
    "    size+=len(sent)\n",
    "    corr+=correct\n",
    "    corr_oov+=correctOOV\n",
    "    oov_count+=OOV\n",
    "print(f'corr_oov: {corr_oov}')\n",
    "print(f'oov_count: {oov_count}')\n",
    "print(f'corr/size: {corr/size:.4f}')"
   ]
  }
 ],
 "metadata": {
  "kernelspec": {
   "display_name": "Python 3",
   "language": "python",
   "name": "python3"
  },
  "language_info": {
   "codemirror_mode": {
    "name": "ipython",
    "version": 3
   },
   "file_extension": ".py",
   "mimetype": "text/x-python",
   "name": "python",
   "nbconvert_exporter": "python",
   "pygments_lexer": "ipython3",
   "version": "3.6.7"
  }
 },
 "nbformat": 4,
 "nbformat_minor": 2
}
